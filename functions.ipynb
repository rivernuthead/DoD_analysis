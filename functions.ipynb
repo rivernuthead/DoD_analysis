{
 "cells": [
  {
   "cell_type": "markdown",
   "metadata": {},
   "source": [
    "# Functions\n",
    "This file contains all the function used"
   ]
  },
  {
   "cell_type": "code",
   "execution_count": null,
   "metadata": {},
   "outputs": [],
   "source": [
    "# IMPORT LIBRARIES\n",
    "import os\n",
    "import numpy as np\n",
    "import scipy.ndimage\n",
    "\n",
    "def downsample_matrix_interpolation(matrix, factor):\n",
    "    '''\n",
    "    INPUT:\n",
    "        matrix: numpy array\n",
    "        factor: int, is the downscaling factor\n",
    "\n",
    "    OUTPUT:\n",
    "        downsampled_matrix\n",
    "    Description:\n",
    "        This funcrtion compute the downsacling of a matrix\n",
    "    '''\n",
    "    \n",
    "    # Get the shape of the original matrix\n",
    "    height, width = matrix.shape\n",
    "\n",
    "    # Calculate the new dimensions after downsampling\n",
    "    new_height = height // factor\n",
    "    new_width = width // factor\n",
    "\n",
    "    # Create a grid of coordinates for the new downsampling points\n",
    "    row_indices = np.linspace(0, height - 1, new_height)\n",
    "    col_indices = np.linspace(0, width - 1, new_width)\n",
    "\n",
    "    # Perform bilinear interpolation to estimate the values at new points\n",
    "    downsampled_matrix = ndimage.map_coordinates(matrix, \n",
    "                                                 np.meshgrid(row_indices, col_indices),\n",
    "                                                 order=1,\n",
    "                                                 mode='nearest')\n",
    "\n",
    "    # Reshape the downsampled matrix to the new dimensions\n",
    "    downsampled_matrix = downsampled_matrix.reshape(new_height, new_width)\n",
    "\n",
    "    return downsampled_matrix"
   ]
  }
 ],
 "metadata": {
  "kernelspec": {
   "display_name": "base",
   "language": "python",
   "name": "python3"
  },
  "language_info": {
   "codemirror_mode": {
    "name": "ipython",
    "version": 3
   },
   "file_extension": ".py",
   "mimetype": "text/x-python",
   "name": "python",
   "nbconvert_exporter": "python",
   "pygments_lexer": "ipython3",
   "version": "3.9.12"
  },
  "orig_nbformat": 4
 },
 "nbformat": 4,
 "nbformat_minor": 2
}
